{
  "cells": [
    {
      "cell_type": "code",
      "execution_count": null,
      "metadata": {
        "collapsed": false
      },
      "outputs": [],
      "source": [
        "%matplotlib inline"
      ]
    },
    {
      "cell_type": "markdown",
      "metadata": {},
      "source": [
        "\n# TrustReport for Regression\n\nSimple example on how to use the TrustReport class to analyze the explanations\nproduced by RegressionTrustee from a MLPRegressor (neural network) from scikit-learn.\nNotice that using the method `TrustReport.load()`, one can load a previously\ngenerated report saved using `trust_report.save()`.\n"
      ]
    },
    {
      "cell_type": "code",
      "execution_count": null,
      "metadata": {
        "collapsed": false
      },
      "outputs": [],
      "source": [
        "import os\n\n# importing required libraries\n# importing Scikit-learn library and datasets package\nfrom sklearn import datasets\nfrom sklearn.neural_network import MLPRegressor\n\nfrom trustee.report.trust import TrustReport\n\nOUTPUT_PATH = \"out/\"\nREPORT_PATH = f\"{OUTPUT_PATH}/report/trust_report.obj\"\n\nif os.path.exists(REPORT_PATH):\n    print(f\"Loading trust report from {REPORT_PATH}...\")\n    trust_report = TrustReport.load(REPORT_PATH)\n    print(\"Done!\")\nelse:\n    # Loading the diabetes dataset (regression)\n    diabetes = datasets.load_diabetes()\n    X, y = datasets.load_diabetes(return_X_y=True, as_frame=True)\n\n    # creating a RF classifier\n    clf = MLPRegressor(solver=\"lbfgs\", alpha=1e-5, hidden_layer_sizes=(100, 50), max_iter=500, random_state=1)\n\n    # The trust report (can) fit and explain the classifier\n    trust_report = TrustReport(\n        clf,\n        X=X,\n        y=y,\n        max_iter=5,\n        num_pruning_iter=5,\n        train_size=0.7,\n        trustee_num_iter=10,\n        trustee_num_stability_iter=5,\n        trustee_sample_size=0.3,\n        analyze_branches=True,\n        analyze_stability=True,\n        top_k=10,\n        verbose=True,\n        feature_names=diabetes.feature_names,\n        is_classify=False,  # <----- to run the trust report for a regression model\n    )\n\nprint(trust_report)\ntrust_report.save(OUTPUT_PATH)"
      ]
    }
  ],
  "metadata": {
    "kernelspec": {
      "display_name": "Python 3",
      "language": "python",
      "name": "python3"
    },
    "language_info": {
      "codemirror_mode": {
        "name": "ipython",
        "version": 3
      },
      "file_extension": ".py",
      "mimetype": "text/x-python",
      "name": "python",
      "nbconvert_exporter": "python",
      "pygments_lexer": "ipython3",
      "version": "3.8.2"
    }
  },
  "nbformat": 4,
  "nbformat_minor": 0
}