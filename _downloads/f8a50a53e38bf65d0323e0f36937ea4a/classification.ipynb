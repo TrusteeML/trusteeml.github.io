{
  "cells": [
    {
      "cell_type": "code",
      "execution_count": null,
      "metadata": {
        "collapsed": false
      },
      "outputs": [],
      "source": [
        "%matplotlib inline"
      ]
    },
    {
      "cell_type": "markdown",
      "metadata": {},
      "source": [
        "\n# ClassificationTrustee\n\nSimple example on how to use the ClassificationTrustee class to extract\na decision tree from a RandomForestClassifier from scikit-learn.\n"
      ]
    },
    {
      "cell_type": "code",
      "execution_count": null,
      "metadata": {
        "collapsed": false
      },
      "outputs": [],
      "source": [
        "# importing required libraries\n# importing Scikit-learn library and datasets package\nimport graphviz\n\nfrom sklearn import tree\nfrom sklearn import datasets\nfrom sklearn.ensemble import RandomForestClassifier\nfrom sklearn.model_selection import train_test_split\nfrom sklearn.metrics import classification_report\n\n\nfrom trustee import ClassificationTrustee\n\n# Loading the iris plants dataset (classification)\niris = datasets.load_iris()\nX, y = datasets.load_iris(return_X_y=True)\n\n# Spliting arrays or matrices into random train and test subsets\n# i.e. 70 % training dataset and 30 % test datasets\nX_train, X_test, y_train, y_test = train_test_split(X, y, test_size=0.30)\n\n# creating a RF classifier\nclf = RandomForestClassifier(n_estimators=100)\n# Training the model on the training dataset\n# fit function is used to train the model using the training sets as parameters\nclf.fit(X_train, y_train)\n# performing predictions on the test dataset\ny_pred = clf.predict(X_test)\n\n# Evaluate model accuracy\nprint(\"Model classification report:\")\nprint(classification_report(y_test, y_pred))\n\n# Initialize Trustee and fit for classification models\ntrustee = ClassificationTrustee(expert=clf)\ntrustee.fit(X_train, y_train, num_iter=50, num_stability_iter=10, samples_size=0.3, verbose=True)\n\n# Get the best explanation from Trustee\ndt, pruned_dt, agreement, reward = trustee.explain()\nprint(f\"Model explanation training (agreement, fidelity): ({agreement}, {reward})\")\nprint(f\"Model Explanation size: {dt.tree_.node_count}\")\nprint(f\"Top-k Prunned Model explanation size: {pruned_dt.tree_.node_count}\")\n\n# Use explanations to make predictions\ndt_y_pred = dt.predict(X_test)\npruned_dt_y_pred = pruned_dt.predict(X_test)\n\n# Evaluate accuracy and fidelity of explanations\nprint(\"Model explanation global fidelity report:\")\nprint(classification_report(y_pred, dt_y_pred))\nprint(\"Top-k Model explanation global fidelity report:\")\nprint(classification_report(y_pred, pruned_dt_y_pred))\n\nprint(\"Model explanation score report:\")\nprint(classification_report(y_test, dt_y_pred))\nprint(\"Top-k Model explanation score report:\")\nprint(classification_report(y_test, pruned_dt_y_pred))\n\n\n# Output decision tree to pdf\ndot_data = tree.export_graphviz(\n    dt,\n    class_names=iris.target_names,\n    feature_names=iris.feature_names,\n    filled=True,\n    rounded=True,\n    special_characters=True,\n)\ngraph = graphviz.Source(dot_data)\ngraph.render(\"dt_explanation\")\n\n# Output pruned decision tree to pdf\ndot_data = tree.export_graphviz(\n    pruned_dt,\n    class_names=iris.target_names,\n    feature_names=iris.feature_names,\n    filled=True,\n    rounded=True,\n    special_characters=True,\n)\ngraph = graphviz.Source(dot_data)\ngraph.render(\"pruned_dt_explation\")"
      ]
    }
  ],
  "metadata": {
    "kernelspec": {
      "display_name": "Python 3",
      "language": "python",
      "name": "python3"
    },
    "language_info": {
      "codemirror_mode": {
        "name": "ipython",
        "version": 3
      },
      "file_extension": ".py",
      "mimetype": "text/x-python",
      "name": "python",
      "nbconvert_exporter": "python",
      "pygments_lexer": "ipython3",
      "version": "3.8.2"
    }
  },
  "nbformat": 4,
  "nbformat_minor": 0
}